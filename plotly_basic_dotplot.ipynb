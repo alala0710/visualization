{
  "nbformat": 4,
  "nbformat_minor": 0,
  "metadata": {
    "colab": {
      "name": "plotly_basic_dotplot",
      "version": "0.3.2",
      "provenance": [],
      "include_colab_link": true
    },
    "kernelspec": {
      "name": "python3",
      "display_name": "Python 3"
    }
  },
  "cells": [
    {
      "cell_type": "markdown",
      "metadata": {
        "id": "view-in-github",
        "colab_type": "text"
      },
      "source": [
        "<a href=\"https://colab.research.google.com/github/alala0710/visualization/blob/master/plotly_basic_dotplot.ipynb\" target=\"_parent\"><img src=\"https://colab.research.google.com/assets/colab-badge.svg\" alt=\"Open In Colab\"/></a>"
      ]
    },
    {
      "metadata": {
        "id": "AVNEwJIDy0yS",
        "colab_type": "code",
        "colab": {}
      },
      "cell_type": "code",
      "source": [
        "#plotlyで可視化\n",
        "!pip install plotly \n",
        "import plotly\n",
        "plotly.tools.set_credentials_file(username='alala0710', api_key='hoge')"
      ],
      "execution_count": 0,
      "outputs": []
    },
    {
      "metadata": {
        "id": "csXKCuO7y9Qh",
        "colab_type": "code",
        "colab": {}
      },
      "cell_type": "code",
      "source": [
        "#simple dots\n",
        "import plotly.plotly as py\n",
        "import plotly.graph_objs as go\n",
        "\n",
        "trace1 = {\"x\": [0.674,0.968,0.999,0.793,0.858], \n",
        "          \"y\": [\"保険・医療\", \"教育の機会\", \"政治的な意思決定への参加\", \"経済的機会\", \"グローバル総合指標\"], \n",
        "          \"marker\": {\"color\": \"red\", \"size\": 10}, \n",
        "          \"mode\": \"markers\", \n",
        "          \"name\": \"アイスランド\", \n",
        "          \"type\": \"scatter\"\n",
        "}\n",
        "\n",
        "trace2 = {\"x\": [0.563,0.972,0.999,0.806,0.835], \n",
        "          \"y\": [\"保険・医療\", \"教育の機会\", \"政治的な意思決定への参加\", \"経済的機会\", \"グローバル総合指標\"], \n",
        "          \"marker\": {\"color\": \"red\", \"size\": 10}, \n",
        "          \"mode\": \"markers\", \n",
        "          \"name\": \"ノルウェイ\", \n",
        "          \"type\": \"scatter\"\n",
        "}\n",
        "\n",
        "data = [trace1, trace2]\n",
        "layout = {\"title\": \"ジェンダーギャップ指数\", \n",
        "          #\"xaxis\": {\"title\": \"指数\", }, \n",
        "          #\"yaxis\": {\"title\": \"指標\"}\n",
        "         }\n",
        "\n",
        "fig = go.Figure(data=data, layout=layout)\n",
        "py.iplot(fig, filenmae='basic_dot-plot')"
      ],
      "execution_count": 0,
      "outputs": []
    }
  ]
}